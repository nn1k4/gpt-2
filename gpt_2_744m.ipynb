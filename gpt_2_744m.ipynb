{
  "nbformat": 4,
  "nbformat_minor": 0,
  "metadata": {
    "colab": {
      "name": "gpt-2-744m.ipynb",
      "version": "0.3.2",
      "provenance": [],
      "include_colab_link": true
    },
    "kernelspec": {
      "name": "python3",
      "display_name": "Python 3"
    },
    "accelerator": "GPU"
  },
  "cells": [
    {
      "cell_type": "markdown",
      "metadata": {
        "id": "view-in-github",
        "colab_type": "text"
      },
      "source": [
        "<a href=\"https://colab.research.google.com/github/nn1k4/gpt-2/blob/master/gpt_2_744m.ipynb\" target=\"_parent\"><img src=\"https://colab.research.google.com/assets/colab-badge.svg\" alt=\"Open In Colab\"/></a>"
      ]
    },
    {
      "cell_type": "code",
      "metadata": {
        "id": "70XEEHDD1leV",
        "colab_type": "code",
        "colab": {}
      },
      "source": [
        "# Download GPT-2 (774M model)\n",
        "\n",
        "!git clone https://github.com/nn1k4/gpt-2\n",
        "%cd gpt-2\n",
        "\n",
        "!pip3 install tensorflow-gpu==1.14.0\n",
        "!python3 download_model.py 774M\n",
        "!export PYTHONIOENCODING=UTF-8\n",
        "!pip3 install -r requirements.txt\n",
        " \n",
        "\n"
      ],
      "execution_count": 0,
      "outputs": []
    },
    {
      "cell_type": "code",
      "metadata": {
        "id": "yri4WnO0-JJs",
        "colab_type": "code",
        "colab": {}
      },
      "source": [
        "!python3 src/interactive_conditional_samples.py --top_k 40 --temperature 0.7"
      ],
      "execution_count": 0,
      "outputs": []
    }
  ]
}